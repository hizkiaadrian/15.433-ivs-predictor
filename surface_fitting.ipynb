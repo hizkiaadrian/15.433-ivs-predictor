{
 "cells": [
  {
   "cell_type": "code",
   "execution_count": 1,
   "id": "a528dd27",
   "metadata": {},
   "outputs": [],
   "source": [
    "import pandas as pd\n",
    "import _pickle as cPickle\n",
    "from utils import ivs\n",
    "from tqdm import tqdm"
   ]
  },
  {
   "cell_type": "code",
   "execution_count": 2,
   "id": "854ba71c",
   "metadata": {},
   "outputs": [],
   "source": [
    "import warnings\n",
    "warnings.filterwarnings('ignore')"
   ]
  },
  {
   "cell_type": "code",
   "execution_count": 3,
   "id": "f7b22789",
   "metadata": {},
   "outputs": [],
   "source": [
    "calls = pd.read_feather('calls_bsm.feather')\n",
    "calls.insert(1, 'option_type', 'C')\n",
    "calls = calls.rename(columns={'C':'option_price'})\n",
    "\n",
    "puts = pd.read_feather('puts_bsm.feather')\n",
    "puts.insert(1, 'option_type', 'P')\n",
    "puts = puts.rename(columns={'P':'option_price'})"
   ]
  },
  {
   "cell_type": "code",
   "execution_count": 4,
   "id": "9296be11",
   "metadata": {},
   "outputs": [
    {
     "data": {
      "text/html": [
       "<div>\n",
       "<style scoped>\n",
       "    .dataframe tbody tr th:only-of-type {\n",
       "        vertical-align: middle;\n",
       "    }\n",
       "\n",
       "    .dataframe tbody tr th {\n",
       "        vertical-align: top;\n",
       "    }\n",
       "\n",
       "    .dataframe thead th {\n",
       "        text-align: right;\n",
       "    }\n",
       "</style>\n",
       "<table border=\"1\" class=\"dataframe\">\n",
       "  <thead>\n",
       "    <tr style=\"text-align: right;\">\n",
       "      <th></th>\n",
       "      <th>date</th>\n",
       "      <th>option_type</th>\n",
       "      <th>option_price</th>\n",
       "      <th>S</th>\n",
       "      <th>K</th>\n",
       "      <th>r</th>\n",
       "      <th>t</th>\n",
       "      <th>sigma</th>\n",
       "    </tr>\n",
       "  </thead>\n",
       "  <tbody>\n",
       "    <tr>\n",
       "      <th>0</th>\n",
       "      <td>2006-01-03</td>\n",
       "      <td>C</td>\n",
       "      <td>25.000</td>\n",
       "      <td>1269.42</td>\n",
       "      <td>1245.0</td>\n",
       "      <td>0.040543</td>\n",
       "      <td>0.008248</td>\n",
       "      <td>0.116985</td>\n",
       "    </tr>\n",
       "    <tr>\n",
       "      <th>1</th>\n",
       "      <td>2006-01-03</td>\n",
       "      <td>C</td>\n",
       "      <td>11.700</td>\n",
       "      <td>1269.42</td>\n",
       "      <td>1260.0</td>\n",
       "      <td>0.040543</td>\n",
       "      <td>0.008248</td>\n",
       "      <td>0.118206</td>\n",
       "    </tr>\n",
       "    <tr>\n",
       "      <th>2</th>\n",
       "      <td>2006-01-03</td>\n",
       "      <td>C</td>\n",
       "      <td>3.075</td>\n",
       "      <td>1269.42</td>\n",
       "      <td>1275.0</td>\n",
       "      <td>0.040543</td>\n",
       "      <td>0.008248</td>\n",
       "      <td>0.114021</td>\n",
       "    </tr>\n",
       "    <tr>\n",
       "      <th>3</th>\n",
       "      <td>2006-01-03</td>\n",
       "      <td>C</td>\n",
       "      <td>0.325</td>\n",
       "      <td>1269.42</td>\n",
       "      <td>1290.0</td>\n",
       "      <td>0.040543</td>\n",
       "      <td>0.008248</td>\n",
       "      <td>0.110813</td>\n",
       "    </tr>\n",
       "    <tr>\n",
       "      <th>4</th>\n",
       "      <td>2006-01-03</td>\n",
       "      <td>C</td>\n",
       "      <td>0.250</td>\n",
       "      <td>1269.42</td>\n",
       "      <td>1500.0</td>\n",
       "      <td>0.040465</td>\n",
       "      <td>0.049344</td>\n",
       "      <td>0.308211</td>\n",
       "    </tr>\n",
       "  </tbody>\n",
       "</table>\n",
       "</div>"
      ],
      "text/plain": [
       "         date option_type  option_price        S       K         r         t  \\\n",
       "0  2006-01-03           C        25.000  1269.42  1245.0  0.040543  0.008248   \n",
       "1  2006-01-03           C        11.700  1269.42  1260.0  0.040543  0.008248   \n",
       "2  2006-01-03           C         3.075  1269.42  1275.0  0.040543  0.008248   \n",
       "3  2006-01-03           C         0.325  1269.42  1290.0  0.040543  0.008248   \n",
       "4  2006-01-03           C         0.250  1269.42  1500.0  0.040465  0.049344   \n",
       "\n",
       "      sigma  \n",
       "0  0.116985  \n",
       "1  0.118206  \n",
       "2  0.114021  \n",
       "3  0.110813  \n",
       "4  0.308211  "
      ]
     },
     "execution_count": 4,
     "metadata": {},
     "output_type": "execute_result"
    }
   ],
   "source": [
    "# df = calls.append(puts).sort_values(['date', 't', 'K', 'option_type']).reset_index(drop=True)\n",
    "df = calls.copy()\n",
    "df.head()"
   ]
  },
  {
   "cell_type": "code",
   "execution_count": 5,
   "id": "c81a1fcb",
   "metadata": {},
   "outputs": [],
   "source": [
    "# for date, temp in tqdm(df.groupby('date')):\n",
    "#     svi = ivs.SVI(date, temp)\n",
    "#     with open(f'svi_res/{date}.pkl', 'wb') as f:\n",
    "#         cPickle.dump(svi, f)"
   ]
  },
  {
   "cell_type": "code",
   "execution_count": 6,
   "id": "eb22bd06",
   "metadata": {},
   "outputs": [],
   "source": [
    "# for date, temp in tqdm(df.groupby('date')):\n",
    "#     poly = ivs.PolynomialSurface(date, temp)\n",
    "#     with open(f\"poly_res/{date}.pkl\", \"wb\") as f:\n",
    "#         cPickle.dump(poly, f)"
   ]
  },
  {
   "cell_type": "code",
   "execution_count": 13,
   "id": "af889e67",
   "metadata": {},
   "outputs": [
    {
     "name": "stderr",
     "output_type": "stream",
     "text": [
      "100%|██████████████████████████████████████████████████████████████████████████████| 3607/3607 [09:47<00:00,  3.81it/s]\n"
     ]
    }
   ],
   "source": [
    "# for date, temp in tqdm(df.groupby('date')):\n",
    "#     cubic = ivs.Cubic(date, temp)\n",
    "#     with open(f\"cubic_res/{date}.pkl\", \"wb\") as f:\n",
    "#         cPickle.dump(cubic, f)"
   ]
  },
  {
   "cell_type": "code",
   "execution_count": null,
   "id": "8667f5fb",
   "metadata": {},
   "outputs": [],
   "source": []
  }
 ],
 "metadata": {
  "kernelspec": {
   "display_name": "Python 3 (ipykernel)",
   "language": "python",
   "name": "python3"
  },
  "language_info": {
   "codemirror_mode": {
    "name": "ipython",
    "version": 3
   },
   "file_extension": ".py",
   "mimetype": "text/x-python",
   "name": "python",
   "nbconvert_exporter": "python",
   "pygments_lexer": "ipython3",
   "version": "3.9.6"
  }
 },
 "nbformat": 4,
 "nbformat_minor": 5
}
